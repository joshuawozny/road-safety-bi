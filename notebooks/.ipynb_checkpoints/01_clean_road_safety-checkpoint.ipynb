{
 "cells": [
  {
   "cell_type": "code",
   "execution_count": 4,
   "id": "05fe661e-e06f-495a-acdf-f1387cd60017",
   "metadata": {},
   "outputs": [
    {
     "data": {
      "text/plain": [
       "PosixPath('../data/cleaned_road_safety.csv')"
      ]
     },
     "execution_count": 4,
     "metadata": {},
     "output_type": "execute_result"
    }
   ],
   "source": [
    "import pandas as pd\n",
    "from pathlib import Path\n",
    "\n",
    "raw_path = Path(\"../data/RoadSafety.csv\")\n",
    "df_raw = pd.read_csv(raw_path)\n",
    "\n",
    "# First row actually contains the true headers. Use it and drop the row.\n",
    "new_cols = list(df_raw.iloc[0])\n",
    "df = df_raw.iloc[1:].copy()\n",
    "df.columns = [str(c).strip() for c in new_cols]\n",
    "\n",
    "# Rename columns to clean, DB-friendly names\n",
    "rename_map = {\n",
    "    \"Country\": \"country\",\n",
    "    \"Year\": \"year\",\n",
    "    \"Drivers/passengers of 4-wheeled vehicles\": \"share_4w\",\n",
    "    \"Drivers/passengers of motorized 2- or 3-wheelers\": \"share_2_3w\",\n",
    "    \"Cyclists\": \"share_cyclists\",\n",
    "    \"Pedestrians\": \"share_pedestrians\",\n",
    "    \"Other/unspecified road users\": \"share_other_unspecified\",\n",
    "}\n",
    "df = df.rename(columns=rename_map)\n",
    "\n",
    "# Type fixes\n",
    "df[\"year\"] = pd.to_numeric(df[\"year\"], errors=\"coerce\").astype(\"Int64\")\n",
    "for c in [\"share_4w\",\"share_2_3w\",\"share_cyclists\",\"share_pedestrians\",\"share_other_unspecified\"]:\n",
    "    df[c] = pd.to_numeric(df[c], errors=\"coerce\")\n",
    "\n",
    "# (Optional) simple sanity checks\n",
    "assert set([\"country\",\"year\",\"share_4w\",\"share_2_3w\",\"share_cyclists\",\"share_pedestrians\",\"share_other_unspecified\"]).issubset(df.columns)\n",
    "\n",
    "# Save a clean CSV (safe to import to Postgres)\n",
    "out_path = Path(\"../data/cleaned_road_safety.csv\")\n",
    "df.to_csv(out_path, index=False)\n",
    "out_path"
   ]
  },
  {
   "cell_type": "code",
   "execution_count": null,
   "id": "75327706-20b0-4cc1-9dcb-c1bbe52a146d",
   "metadata": {},
   "outputs": [],
   "source": []
  },
  {
   "cell_type": "code",
   "execution_count": null,
   "id": "c6069e10-7690-4f4d-91e9-3a4c9a6fa10f",
   "metadata": {},
   "outputs": [],
   "source": []
  }
 ],
 "metadata": {
  "kernelspec": {
   "display_name": "Python 3 (ipykernel)",
   "language": "python",
   "name": "python3"
  },
  "language_info": {
   "codemirror_mode": {
    "name": "ipython",
    "version": 3
   },
   "file_extension": ".py",
   "mimetype": "text/x-python",
   "name": "python",
   "nbconvert_exporter": "python",
   "pygments_lexer": "ipython3",
   "version": "3.13.9"
  }
 },
 "nbformat": 4,
 "nbformat_minor": 5
}
